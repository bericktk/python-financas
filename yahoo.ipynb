{
 "cells": [
  {
   "cell_type": "code",
   "execution_count": 2,
   "metadata": {},
   "outputs": [],
   "source": [
    "from conexao_banco import *"
   ]
  },
  {
   "cell_type": "code",
   "execution_count": 3,
   "metadata": {},
   "outputs": [],
   "source": [
    "ativos = [\"ITUB3.SA\", \"^BVSP\", \"VALE\"]\n",
    "data_inicial = \"2024-08-01\"\n",
    "data_final = \"2024-08-31\""
   ]
  },
  {
   "cell_type": "code",
   "execution_count": 4,
   "metadata": {},
   "outputs": [
    {
     "name": "stderr",
     "output_type": "stream",
     "text": [
      "[*********************100%***********************]  1 of 1 completed\n",
      "[*********************100%***********************]  1 of 1 completed\n",
      "[*********************100%***********************]  1 of 1 completed"
     ]
    },
    {
     "name": "stdout",
     "output_type": "stream",
     "text": [
      "Conexão bem sucedida!\n",
      "Conexão bem sucedida!\n",
      "Dados inseridos com sucesso!\n",
      "Conexão bem sucedida!\n",
      "Dados inseridos com sucesso!\n"
     ]
    },
    {
     "name": "stderr",
     "output_type": "stream",
     "text": [
      "\n"
     ]
    },
    {
     "name": "stdout",
     "output_type": "stream",
     "text": [
      "Conexão bem sucedida!\n",
      "Dados inseridos com sucesso!\n"
     ]
    }
   ],
   "source": [
    "conn, cursor = conectar()\n",
    "\n",
    "if conn and cursor:\n",
    "    for ativo in ativos:\n",
    "        data = yf.download(ativo, data_inicial, data_final)\n",
    "        data.reset_index(inplace=True)\n",
    "        data['Ativo'] = ativo\n",
    "\n",
    "        data.rename(columns={\n",
    "            'Open': 'Aberto',\n",
    "            'High': 'Alta',\n",
    "            'Low': 'Baixa',\n",
    "            'Close': 'Fechamento',\n",
    "            'Adj Close': 'Fechamento Ajustado',\n",
    "            'Volume': 'Volume'\n",
    "        }, inplace=True)\n",
    "\n",
    "        inserirDados(conn, cursor, data)"
   ]
  }
 ],
 "metadata": {
  "kernelspec": {
   "display_name": "Python 3",
   "language": "python",
   "name": "python3"
  },
  "language_info": {
   "codemirror_mode": {
    "name": "ipython",
    "version": 3
   },
   "file_extension": ".py",
   "mimetype": "text/x-python",
   "name": "python",
   "nbconvert_exporter": "python",
   "pygments_lexer": "ipython3",
   "version": "3.12.5"
  }
 },
 "nbformat": 4,
 "nbformat_minor": 2
}
